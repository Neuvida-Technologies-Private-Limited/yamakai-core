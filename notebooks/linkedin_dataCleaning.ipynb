{
 "cells": [
  {
   "cell_type": "code",
   "execution_count": 1,
   "metadata": {},
   "outputs": [],
   "source": [
    "import pandas as pd\n",
    "import re"
   ]
  },
  {
   "cell_type": "code",
   "execution_count": 6,
   "metadata": {},
   "outputs": [
    {
     "name": "stdout",
     "output_type": "stream",
     "text": [
      "There´re a couple of ways you can work with me for free.\n",
      "\n",
      "👇\n",
      "\n",
      "\n",
      "\n",
      "1️⃣    \n",
      "Join my Self-Growth Hub LinkedIn Group\n",
      "\n",
      "You´ll gain access to Masterclasses, trainings, workshops. \n",
      "There´s also a Mastermind group, Guest Speakers… and a lot of value & fun!\n",
      "\n",
      "You´ll meet like-minded individuals, get a chance to connect, engage & develop meaningful relationships.\n",
      "\n",
      "Self-Growth Hub is a non-judgemental, respectful, safe & supportive space for you to hang out, learn & grow. \n",
      "No sales & no spam.\n",
      "\n",
      "2️⃣      \n",
      "Some of the material that´s in the Self-Growth Hub can also be found on YouTube. \n",
      "\n",
      "3️⃣     \n",
      "Get the Career Audit Workbook and guidelines to: \n",
      "- Do a 360 audit of your current career situation and find areas to improve\n",
      "- Create a step-by-step plan to your sustainable career growth \n",
      "\n",
      "4️⃣   \n",
      "Subscribe to my newsletter\n",
      "-       You´ll receive news, updates & special offers from me approx. twice/week.\n",
      "\n",
      "And then, there’s my paid offer:\n",
      "\n",
      "🚀 1:1 career coaching journey with me, 3 months / 12 sessions.\n",
      "It’s you and me, working together towards your next career goal.\n",
      "\n",
      "-> I help you make clear & specific decisions;\n",
      "-> We map out the plan & strategy for you to get to your desired results;\n",
      "-> I coach you & support you every step of your journey\n",
      "\n",
      "In the words of one of my amazing Clients:\n",
      "\n",
      "\"I started working with Sandra in a very particular moment of my life. I was stuck in my job and also privately I could not understand which was the best path for me. Sandra helped me a lot in understanding the elements not working properly in my working habits and shed lights on the right steps to follow for my new career orientation. For sure Sandra played a key role in a very delicate transition phase of my life and I am really grateful for that. I am also encouraging people feeling stuck professionally or privately to start such coaching programs with Sandra cause she is really able to turn your life around.”\n",
      "\n",
      "👉 Link to the list of all these resources can be found in comments below.\n",
      "\n",
      "Know that I appreciate you, your curiosity and thank you for being a part of my world.\n",
      "\n",
      "See you around!\n",
      "\n",
      "#success #career #finance\n"
     ]
    }
   ],
   "source": [
    "df = pd.read_excel('LinkedIn_Dataset_1.xlsx')\n",
    "df.columns = ['text']\n",
    "print(df.iloc[56,0])"
   ]
  },
  {
   "cell_type": "code",
   "execution_count": null,
   "metadata": {},
   "outputs": [],
   "source": []
  },
  {
   "cell_type": "code",
   "execution_count": 4,
   "metadata": {},
   "outputs": [],
   "source": [
    "\n",
    "# string with letters, numbers, and special characters\n",
    "# s = \"\"\"Three years ago a crack markets and finance commentary service unit was discontinued due to a software update it did not commit (to). This service promptly escaped from maximum bureaucratic stasis to a London-based blogging underground.\n",
    "\n",
    "# Today, still wanted by readers, they survive as commenters of fortune. If you have a market problem and no-one else can offer insight, and you can find them, maybe you can hire the TBS-team.\n",
    "\n",
    "# For the past few months, under the safeguard of TBS veteran commenters, a select group of financial pros, journalists and commenters have been gathering every Monday at 11am in a discrete location on the web to discuss what's really going on in finance, markets and economics.\n",
    "\n",
    "# But they're now ready to come out of stealth mode.\n",
    "\n",
    "# The Blind Spot is proud to announce the official resuscitation of (Spot) Markets Live. Starting tomorrow (FRIDAY) at 11am UK time on the Coodash platform with Anjuli Davies. From then on every Monday at 11am.\n",
    "\n",
    "# We are also collaborating with Ben Harrington of Betaville and Neil Collins, formerly of the Telegraph.\n",
    "\n",
    "# You will need a login.\n",
    "\n",
    "# Sign-up details can be found here:\n",
    "# https://lnkd.in/euu7ZYj4\n",
    "\n",
    "# #markets #spotmarketslive #finance\"\"\"\n",
    "\n",
    "def clean_post(text):\n",
    "\n",
    "        # remove emoticons\n",
    "        emoj = re.compile(\"[\"\n",
    "        u\"\\U0001F600-\\U0001F64F\"  # emoticons\n",
    "        u\"\\U0001F300-\\U0001F5FF\"  # symbols & pictographs\n",
    "        u\"\\U0001F680-\\U0001F6FF\"  # transport & map symbols\n",
    "        u\"\\U0001F1E0-\\U0001F1FF\"  # flags (iOS)\n",
    "        u\"\\U00002500-\\U00002BEF\"  # chinese char\n",
    "        u\"\\U00002702-\\U000027B0\"\n",
    "        u\"\\U00002702-\\U000027B0\"\n",
    "        u\"\\U000024C2-\\U0001F251\"\n",
    "        u\"\\U0001f926-\\U0001f937\"\n",
    "        u\"\\U00010000-\\U0010ffff\"\n",
    "        u\"\\u2640-\\u2642\" \n",
    "        u\"\\u2600-\\u2B55\"\n",
    "        u\"\\u200d\"\n",
    "        u\"\\u23cf\"\n",
    "        u\"\\u23e9\"\n",
    "        u\"\\u231a\"\n",
    "        u\"\\ufe0f\"  # dingbats\n",
    "        u\"\\u3030\"\n",
    "        \"]+\", re.UNICODE)\n",
    "        s1 = re.sub(emoj, '', text)\n",
    "        # keep only letters\n",
    "        res = re.sub(r'[^\\'@_!#$%^&*()<>?/\\|}{~:\\[\\]\\-.0-9a-zA-Z]+', ' ', s1)\n",
    "        return res"
   ]
  },
  {
   "cell_type": "code",
   "execution_count": 5,
   "metadata": {},
   "outputs": [],
   "source": [
    "df['text'] = df['text'].apply(clean_post)"
   ]
  },
  {
   "cell_type": "code",
   "execution_count": 12,
   "metadata": {},
   "outputs": [
    {
     "data": {
      "text/plain": [
       "49"
      ]
     },
     "execution_count": 12,
     "metadata": {},
     "output_type": "execute_result"
    }
   ],
   "source": [
    "len(df.iloc[452,0].split())"
   ]
  },
  {
   "cell_type": "code",
   "execution_count": 7,
   "metadata": {},
   "outputs": [
    {
     "data": {
      "text/html": [
       "<div>\n",
       "<style scoped>\n",
       "    .dataframe tbody tr th:only-of-type {\n",
       "        vertical-align: middle;\n",
       "    }\n",
       "\n",
       "    .dataframe tbody tr th {\n",
       "        vertical-align: top;\n",
       "    }\n",
       "\n",
       "    .dataframe thead th {\n",
       "        text-align: right;\n",
       "    }\n",
       "</style>\n",
       "<table border=\"1\" class=\"dataframe\">\n",
       "  <thead>\n",
       "    <tr style=\"text-align: right;\">\n",
       "      <th></th>\n",
       "      <th>text</th>\n",
       "    </tr>\n",
       "  </thead>\n",
       "  <tbody>\n",
       "    <tr>\n",
       "      <th>0</th>\n",
       "      <td>A typical question I get from many people espe...</td>\n",
       "    </tr>\n",
       "    <tr>\n",
       "      <th>1</th>\n",
       "      <td>If bitcoin goes down to 14K in next 4 weeks it...</td>\n",
       "    </tr>\n",
       "    <tr>\n",
       "      <th>2</th>\n",
       "      <td>From cradle to grave women fare worse than men...</td>\n",
       "    </tr>\n",
       "    <tr>\n",
       "      <th>3</th>\n",
       "      <td>The reality is to catalyze adoption you have t...</td>\n",
       "    </tr>\n",
       "    <tr>\n",
       "      <th>4</th>\n",
       "      <td>To understand 2022 crypto winter we must go a ...</td>\n",
       "    </tr>\n",
       "    <tr>\n",
       "      <th>...</th>\n",
       "      <td>...</td>\n",
       "    </tr>\n",
       "    <tr>\n",
       "      <th>486</th>\n",
       "      <td>Well sales isn t a bad word and the great sale...</td>\n",
       "    </tr>\n",
       "    <tr>\n",
       "      <th>487</th>\n",
       "      <td>Sales and Marketing hack for understanding the...</td>\n",
       "    </tr>\n",
       "    <tr>\n",
       "      <th>488</th>\n",
       "      <td>Everyone sells. Does not matter what position ...</td>\n",
       "    </tr>\n",
       "    <tr>\n",
       "      <th>489</th>\n",
       "      <td>Here s an effective but different prospecting ...</td>\n",
       "    </tr>\n",
       "    <tr>\n",
       "      <th>490</th>\n",
       "      <td>Treating customers as one-off transactions is ...</td>\n",
       "    </tr>\n",
       "  </tbody>\n",
       "</table>\n",
       "<p>491 rows × 1 columns</p>\n",
       "</div>"
      ],
      "text/plain": [
       "                                                  text\n",
       "0    A typical question I get from many people espe...\n",
       "1    If bitcoin goes down to 14K in next 4 weeks it...\n",
       "2    From cradle to grave women fare worse than men...\n",
       "3    The reality is to catalyze adoption you have t...\n",
       "4    To understand 2022 crypto winter we must go a ...\n",
       "..                                                 ...\n",
       "486  Well sales isn t a bad word and the great sale...\n",
       "487  Sales and Marketing hack for understanding the...\n",
       "488  Everyone sells. Does not matter what position ...\n",
       "489  Here s an effective but different prospecting ...\n",
       "490  Treating customers as one-off transactions is ...\n",
       "\n",
       "[491 rows x 1 columns]"
      ]
     },
     "execution_count": 7,
     "metadata": {},
     "output_type": "execute_result"
    }
   ],
   "source": [
    "df"
   ]
  },
  {
   "cell_type": "code",
   "execution_count": 8,
   "metadata": {},
   "outputs": [],
   "source": [
    "training_data = df.sample(frac=0.9, random_state=25)\n",
    "testing_data = df.drop(training_data.index)"
   ]
  },
  {
   "cell_type": "code",
   "execution_count": 9,
   "metadata": {},
   "outputs": [
    {
     "name": "stdout",
     "output_type": "stream",
     "text": [
      "<class 'pandas.core.frame.DataFrame'>\n",
      "Int64Index: 442 entries, 459 to 354\n",
      "Data columns (total 1 columns):\n",
      " #   Column  Non-Null Count  Dtype \n",
      "---  ------  --------------  ----- \n",
      " 0   post    442 non-null    object\n",
      "dtypes: object(1)\n",
      "memory usage: 6.9+ KB\n"
     ]
    }
   ],
   "source": [
    "training_data.info()"
   ]
  },
  {
   "cell_type": "code",
   "execution_count": 17,
   "metadata": {},
   "outputs": [
    {
     "name": "stdout",
     "output_type": "stream",
     "text": [
      "61.8212890625\n"
     ]
    }
   ],
   "source": [
    "total_wCount = training_data['text'].apply(lambda x: len(x.split())).sum()\n",
    "print(total_wCount/1024)"
   ]
  },
  {
   "cell_type": "code",
   "execution_count": 9,
   "metadata": {},
   "outputs": [],
   "source": [
    "training_data.to_csv('LinkedIn_train.csv',index=False)\n",
    "\n",
    "testing_data.to_csv('LinkedIn_valid.csv',index=False)"
   ]
  }
 ],
 "metadata": {
  "kernelspec": {
   "display_name": "Python 3.9.12 ('base')",
   "language": "python",
   "name": "python3"
  },
  "language_info": {
   "codemirror_mode": {
    "name": "ipython",
    "version": 3
   },
   "file_extension": ".py",
   "mimetype": "text/x-python",
   "name": "python",
   "nbconvert_exporter": "python",
   "pygments_lexer": "ipython3",
   "version": "3.9.12"
  },
  "orig_nbformat": 4,
  "vscode": {
   "interpreter": {
    "hash": "556908d6bcc2de62437665bf577bcf778c9b8599dea5d67f22abfd1a37c3b0d3"
   }
  }
 },
 "nbformat": 4,
 "nbformat_minor": 2
}
