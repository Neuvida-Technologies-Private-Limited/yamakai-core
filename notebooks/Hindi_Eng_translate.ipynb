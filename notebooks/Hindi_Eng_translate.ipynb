{
 "cells": [
  {
   "cell_type": "code",
   "execution_count": 1,
   "metadata": {},
   "outputs": [],
   "source": [
    "from translation_env import translate_client, client"
   ]
  },
  {
   "cell_type": "code",
   "execution_count": 2,
   "metadata": {},
   "outputs": [
    {
     "name": "stdout",
     "output_type": "stream",
     "text": [
      "Afrikaans (af)\n",
      "Akan (ak)\n",
      "Albanian (sq)\n",
      "Amharic (am)\n",
      "Arabic (ar)\n",
      "Armenian (hy)\n",
      "Assamese (as)\n",
      "Aymara (ay)\n",
      "Azerbaijani (az)\n",
      "Bambara (bm)\n",
      "Basque (eu)\n",
      "Belarusian (be)\n",
      "Bengali (bn)\n",
      "Bhojpuri (bho)\n",
      "Bosnian (bs)\n",
      "Bulgarian (bg)\n",
      "Catalan (ca)\n",
      "Cebuano (ceb)\n",
      "Chichewa (ny)\n",
      "Chinese (Simplified) (zh)\n",
      "Chinese (Traditional) (zh-TW)\n",
      "Corsican (co)\n",
      "Croatian (hr)\n",
      "Czech (cs)\n",
      "Danish (da)\n",
      "Divehi (dv)\n",
      "Dogri (doi)\n",
      "Dutch (nl)\n",
      "English (en)\n",
      "Esperanto (eo)\n",
      "Estonian (et)\n",
      "Ewe (ee)\n",
      "Filipino (tl)\n",
      "Finnish (fi)\n",
      "French (fr)\n",
      "Frisian (fy)\n",
      "Galician (gl)\n",
      "Ganda (lg)\n",
      "Georgian (ka)\n",
      "German (de)\n",
      "Goan Konkani (gom)\n",
      "Greek (el)\n",
      "Guarani (gn)\n",
      "Gujarati (gu)\n",
      "Haitian Creole (ht)\n",
      "Hausa (ha)\n",
      "Hawaiian (haw)\n",
      "Hebrew (iw)\n",
      "Hindi (hi)\n",
      "Hmong (hmn)\n",
      "Hungarian (hu)\n",
      "Icelandic (is)\n",
      "Igbo (ig)\n",
      "Iloko (ilo)\n",
      "Indonesian (id)\n",
      "Irish (ga)\n",
      "Italian (it)\n",
      "Japanese (ja)\n",
      "Javanese (jw)\n",
      "Kannada (kn)\n",
      "Kazakh (kk)\n",
      "Khmer (km)\n",
      "Kinyarwanda (rw)\n",
      "Korean (ko)\n",
      "Krio (kri)\n",
      "Kurdish (Kurmanji) (ku)\n",
      "Kurdish (Sorani) (ckb)\n",
      "Kyrgyz (ky)\n",
      "Lao (lo)\n",
      "Latin (la)\n",
      "Latvian (lv)\n",
      "Lingala (ln)\n",
      "Lithuanian (lt)\n",
      "Luxembourgish (lb)\n",
      "Macedonian (mk)\n",
      "Maithili (mai)\n",
      "Malagasy (mg)\n",
      "Malay (ms)\n",
      "Malayalam (ml)\n",
      "Maltese (mt)\n",
      "Manipuri (Meitei Mayek) (mni-Mtei)\n",
      "Maori (mi)\n",
      "Marathi (mr)\n",
      "Mizo (lus)\n",
      "Mongolian (mn)\n",
      "Myanmar (Burmese) (my)\n",
      "Nepali (ne)\n",
      "Northern Sotho (nso)\n",
      "Norwegian (no)\n",
      "Odia (Oriya) (or)\n",
      "Oromo (om)\n",
      "Pashto (ps)\n",
      "Persian (fa)\n",
      "Polish (pl)\n",
      "Portuguese (pt)\n",
      "Punjabi (pa)\n",
      "Quechua (qu)\n",
      "Romanian (ro)\n",
      "Russian (ru)\n",
      "Samoan (sm)\n",
      "Sanskrit (sa)\n",
      "Scots Gaelic (gd)\n",
      "Serbian (sr)\n",
      "Sesotho (st)\n",
      "Shona (sn)\n",
      "Sindhi (sd)\n",
      "Sinhala (si)\n",
      "Slovak (sk)\n",
      "Slovenian (sl)\n",
      "Somali (so)\n",
      "Spanish (es)\n",
      "Sundanese (su)\n",
      "Swahili (sw)\n",
      "Swedish (sv)\n",
      "Tajik (tg)\n",
      "Tamil (ta)\n",
      "Tatar (tt)\n",
      "Telugu (te)\n",
      "Thai (th)\n",
      "Tigrinya (ti)\n",
      "Tsonga (ts)\n",
      "Turkish (tr)\n",
      "Turkmen (tk)\n",
      "Ukrainian (uk)\n",
      "Urdu (ur)\n",
      "Uyghur (ug)\n",
      "Uzbek (uz)\n",
      "Vietnamese (vi)\n",
      "Welsh (cy)\n",
      "Xhosa (xh)\n",
      "Yiddish (yi)\n",
      "Yoruba (yo)\n",
      "Zulu (zu)\n",
      "Hebrew (he)\n",
      "Chinese (Simplified) (zh-CN)\n"
     ]
    }
   ],
   "source": [
    "langs = translate_client.get_languages()\n",
    "\n",
    "for language in langs:\n",
    "    print(u\"{name} ({language})\".format(**language))"
   ]
  },
  {
   "cell_type": "code",
   "execution_count": 35,
   "metadata": {},
   "outputs": [],
   "source": [
    "# Listicles  \n",
    "\n",
    "text = \"\"\"Crying and clutching toys, traumatised \n",
    "relatives gathered at a child day care centre in Thailand \n",
    "where a day earlier a former policeman had slain 34 people, \n",
    "most of them children, in a knife and gun rampage that \n",
    "horrified the nation.\"\"\""
   ]
  },
  {
   "cell_type": "code",
   "execution_count": 36,
   "metadata": {},
   "outputs": [
    {
     "name": "stdout",
     "output_type": "stream",
     "text": [
      "\n",
      "\n",
      "Translation: Plačúce a zvierajúce hračky, traumatizované\n",
      "príbuzní sa zhromaždili v centre dennej starostlivosti o deti v Thajsku\n",
      "kde deň predtým bývalý policajt zabil 34 ľudí,\n",
      "väčšina z nich sú deti, ktoré vyčíňajú nožom a pištoľou\n",
      "zdesil národ.\n"
     ]
    }
   ],
   "source": [
    "# version v2\n",
    "result = translate_client.translate(text, target_language='sk',format_='text')\n",
    "\n",
    "# print(u\"Text: {}\".format(result[\"input\"]))\n",
    "print(\"\\n\")\n",
    "print(u\"Translation: {}\".format(result[\"translatedText\"]))"
   ]
  },
  {
   "cell_type": "code",
   "execution_count": 5,
   "metadata": {},
   "outputs": [
    {
     "name": "stdout",
     "output_type": "stream",
     "text": [
      "Translated text: 1. रेनेगेड पुरुषों के लिए ऑनलाइन प्रीमियम सेल्फ-केयर और ग्रूमिंग उत्पाद खरीदने का सबसे अच्छा प्लेटफॉर्म है।\n",
      "         2. हम सभी शीर्ष ब्रांडों के साथ-साथ आने वाले ब्रांडों को भी पेश करते हैं जो बाजार में कर्षण प्राप्त कर रहे हैं।\n",
      "         3. हम पुरुषों को एक ही स्थान पर अपनी सभी देखभाल और संवारने की जरूरतों के लिए खरीदारी करने के लिए एक सुविधाजनक मंच प्रदान करते हैं।\n",
      "         4. हमारे उत्पादों को सावधानीपूर्वक क्यूरेट किया जाता है और उनकी गुणवत्ता, कार्यक्षमता और शैली के लिए चुना जाता है।\n",
      "         5. हम $100 से अधिक के ऑर्डर पर मुफ़्त शिपिंग और आसान रिटर्न की पेशकश करते हैं ताकि आप विश्वास के साथ खरीदारी कर सकें।\n",
      "         6. अधिक जानकारी के लिए, कृपया हमारी वेबसाइट www.renegadegroomingco.com पर जाएं या info@renegadegroomingco पर हमसे संपर्क करें।\n"
     ]
    }
   ],
   "source": [
    "# version v3\n",
    "project_id = 'hindi-eng-357711'\n",
    "location = \"global\"\n",
    "parent = f\"projects/{project_id}/locations/{location}\"\n",
    "\n",
    "# Translate text from English to French\n",
    "# Detail on supported types can be found here:\n",
    "# https://cloud.google.com/translate/docs/supported-formats\n",
    "response = client.translate_text(\n",
    "        request={\n",
    "            \"parent\": parent,\n",
    "            \"contents\": [text],\n",
    "            \"mime_type\": \"text/plain\",  # mime types: text/plain, text/html\n",
    "            \"source_language_code\": \"en-US\",\n",
    "            \"target_language_code\": \"hi\",\n",
    "        }\n",
    "    )\n",
    "\n",
    "    # Display the translation for each input text provided\n",
    "for translation in response.translations:\n",
    "    print(\"Translated text: {}\".format(translation.translated_text))"
   ]
  },
  {
   "cell_type": "code",
   "execution_count": 5,
   "metadata": {},
   "outputs": [],
   "source": [
    "# Blog Intro\n",
    "\n",
    "text = \"Hey everyone! \\n \\\n",
    "Welcome to my blog. Today, I'm going to be talking about the side effects of smoking. specifically, I'm going to be discussing the link between smoking and lung cancer. \\n \\\n",
    "Smoking is a dangerous habit, and it can have serious consequences for your health. If you're a smoker, it's important to be aware of the risks and take steps to protect yourself. \\n \\\n",
    "So if you're thinking about quitting smoking, or if you're having trouble quitting, this post is for you. I'll talk about the side effects of smoking, and I'll also share some tips for quitting smoking. Thanks for reading!\""
   ]
  },
  {
   "cell_type": "code",
   "execution_count": 6,
   "metadata": {},
   "outputs": [
    {
     "name": "stdout",
     "output_type": "stream",
     "text": [
      "\n",
      "\n",
      "Translation: ज़रा सुनिए सभी!\n",
      " मेरे ब्लॉग पर स्वागत है। आज हम आपको धूम्रपान के दुष्परिणामों के बारे में बताने जा रहे हैं। विशेष रूप से, मैं धूम्रपान और फेफड़ों के कैंसर के बीच की कड़ी पर चर्चा करने जा रहा हूँ।\n",
      " धूम्रपान एक खतरनाक आदत है, और इसके आपके स्वास्थ्य के लिए गंभीर परिणाम हो सकते हैं। यदि आप धूम्रपान करने वाले हैं, तो जोखिमों से अवगत होना और अपनी सुरक्षा के लिए कदम उठाना महत्वपूर्ण है।\n",
      " तो अगर आप धूम्रपान छोड़ने के बारे में सोच रहे हैं, या अगर आपको छोड़ने में परेशानी हो रही है, तो यह पोस्ट आपके लिए है। मैं धूम्रपान के दुष्प्रभावों के बारे में बात करूंगा, और धूम्रपान छोड़ने के लिए कुछ सुझाव भी साझा करूंगा। पढ़ने के लिए धन्यवाद!\n"
     ]
    }
   ],
   "source": [
    "result = translate_client.translate(text, target_language='hi',format_='text')\n",
    "\n",
    "# print(u\"Text: {}\".format(result[\"input\"]))\n",
    "print(\"\\n\")\n",
    "print(u\"Translation: {}\".format(result[\"translatedText\"]))"
   ]
  },
  {
   "cell_type": "code",
   "execution_count": 7,
   "metadata": {},
   "outputs": [],
   "source": [
    "# Welcome email\n",
    "\n",
    "text = \"Welcome to Renegade! \\n\\\n",
    "We are excited to have you on board as our newest member. \\n\\\n",
    "As an eCommerce platform specializing in premium self-care and grooming products for men, we offer an extensive selection of top brands as well as many up-and-coming brands that are gaining market traction. \\n \\\n",
    "We are confident that you will find Renegade to be the premier destination for all your self-care and grooming needs. \\n\\\n",
    "Thank you for joining us, and we look forward to serving you. \\n\\\n",
    "Sincerely, \\n\\\n",
    "The Renegade Team\""
   ]
  },
  {
   "cell_type": "code",
   "execution_count": 8,
   "metadata": {},
   "outputs": [
    {
     "name": "stdout",
     "output_type": "stream",
     "text": [
      "\n",
      "\n",
      "Translation: रेनेगेड में आपका स्वागत है!\n",
      "हम आपको हमारे सबसे नए सदस्य के रूप में शामिल करने के लिए उत्साहित हैं।\n",
      "पुरुषों के लिए प्रीमियम सेल्फ-केयर और ग्रूमिंग उत्पादों में विशेषज्ञता वाले एक ईकामर्स प्लेटफॉर्म के रूप में, हम शीर्ष ब्रांडों के साथ-साथ कई अप-एंड-आने वाले ब्रांडों की एक विस्तृत चयन की पेशकश करते हैं जो बाजार में कर्षण प्राप्त कर रहे हैं।\n",
      " हमें विश्वास है कि आप अपनी सभी देखभाल और संवारने की जरूरतों के लिए रेनेगेड को प्रमुख गंतव्य पाएंगे।\n",
      "हमसे जुड़ने के लिए धन्यवाद, और हम आपकी सेवा के लिए तत्पर हैं।\n",
      "ईमानदारी से,\n",
      "पाखण्डी टीम\n"
     ]
    }
   ],
   "source": [
    "result = translate_client.translate(text, target_language='hi',format_='text')\n",
    "\n",
    "# print(u\"Text: {}\".format(result[\"input\"]))\n",
    "print(\"\\n\")\n",
    "print(u\"Translation: {}\".format(result[\"translatedText\"]))"
   ]
  }
 ],
 "metadata": {
  "kernelspec": {
   "display_name": "Python 3.9.12 ('base')",
   "language": "python",
   "name": "python3"
  },
  "language_info": {
   "codemirror_mode": {
    "name": "ipython",
    "version": 3
   },
   "file_extension": ".py",
   "mimetype": "text/x-python",
   "name": "python",
   "nbconvert_exporter": "python",
   "pygments_lexer": "ipython3",
   "version": "3.9.12"
  },
  "orig_nbformat": 4,
  "vscode": {
   "interpreter": {
    "hash": "556908d6bcc2de62437665bf577bcf778c9b8599dea5d67f22abfd1a37c3b0d3"
   }
  }
 },
 "nbformat": 4,
 "nbformat_minor": 2
}
